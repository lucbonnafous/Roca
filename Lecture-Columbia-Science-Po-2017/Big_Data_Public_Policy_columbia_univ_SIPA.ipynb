{
 "cells": [
  {
   "cell_type": "markdown",
   "metadata": {
    "deletable": true,
    "editable": true,
    "slideshow": {
     "slide_type": "slide"
    }
   },
   "source": [
    "##### <small><i><b>June the 1st 2017</b><br> \n",
    "Alliance Science Po / Columbia University- PhD Summer school</i><br>\n",
    "*[Lecture's Github Folder](https://github.com/ThomasRoca/Lecture-Columbia-Science-Po-2017)*</small>\n",
    "\n",
    "# <span style=\"color:rgb(0,125,164)\"><b>Introduction to DataDriven </b></span><span style=\"color:rgb(103,189,227);\"><b> Policy Making</b></span>\n",
    "<br>\n",
    "\n",
    "\n",
    "<img src='http://stats4dev.com/prez/intro.png'>\n",
    "\n",
    "<br>\n",
    "\n",
    "<small><b>Thomas Roca, PhD - Agence Française de Développement</b> <br>\n",
    "*Research affiliate @ Data-Pop Alliance (MIT, Harvard, ODI)*</small>"
   ]
  },
  {
   "cell_type": "markdown",
   "metadata": {
    "deletable": true,
    "editable": true,
    "slideshow": {
     "slide_type": "slide"
    }
   },
   "source": [
    "## <i>Table of content</i>\n",
    "--- \n",
    "\n",
    "### <span style=\"color:rgb(0,125,164)\"> I. The Open movement from accountability to efficiency</span>\n",
    "\n",
    "### <span style=\"color:rgb(0,125,164)\"> II. Data, the raw material of the digital revolution </span>\n",
    "\n",
    "### <span style=\"color:rgb(0,125,164)\"> III. The Digital Humanitarian movement</span> \n",
    "\n",
    "\n",
    "**Format:** 3x(20min + 10min Q/A)"
   ]
  },
  {
   "cell_type": "markdown",
   "metadata": {
    "deletable": true,
    "editable": true,
    "slideshow": {
     "slide_type": "slide"
    }
   },
   "source": [
    "#  <span style=\"color:#6b6b6c;\">Part I. </span><b> <span style=\"color:rgb(0,125,164);\"><b>The Open movement, <span style=\"color:rgb(103,189,227);\">from accountability to efficiency</span>\n",
    "\n",
    "\n",
    "<img src=\"http://stats4dev.com/prez/PartI2.png\" width=\"75%\">\n"
   ]
  },
  {
   "cell_type": "markdown",
   "metadata": {
    "deletable": true,
    "editable": true,
    "slideshow": {
     "slide_type": "slide"
    }
   },
   "source": [
    "### Content\n",
    "- The open movement\n",
    "- Towards more accountable States\n",
    "- More efficient administration ?\n",
    "- Towards new data partenerships with in the private sector?\n",
    "- What about Development Assistance ?"
   ]
  },
  {
   "cell_type": "markdown",
   "metadata": {
    "deletable": true,
    "editable": true,
    "slideshow": {
     "slide_type": "slide"
    }
   },
   "source": [
    "## <span style=\"color:rgb(0,125,164)\">1.1 Introduction:</span> <span style=\"color:rgb(103,189,227);\"> the Open movement</span>\n",
    "\n",
    "<img src=\"http://stats4dev.com/prez/freemovement2.png\">\n",
    "\n",
    "\n",
    "\"The free culture movement is a social movement that promotes the freedom to distribute and modify creative works in the form of free content or open content by using the Internet and other forms of media\".\n",
    "\n",
    "<i>Source: [wikipedia!](https://en.wikipedia.org/wiki/Free_culture_movement)</i>"
   ]
  },
  {
   "cell_type": "markdown",
   "metadata": {
    "deletable": true,
    "editable": true,
    "slideshow": {
     "slide_type": "slide"
    }
   },
   "source": [
    "## <span style=\"color:rgb(0,125,164)\"> 1.2 Towards more accountable States:</span><span style=\"color:rgb(103,189,227);\"> from data hacktivism to open government</span>\n",
    "\n",
    "<img src=\"http://stats4dev.com/prez/accountability.png\">\n",
    "\n",
    "- Ranking (naming & shaming) works! Advocay by civil society for more transaprency & accountability (TI, oxfam,..)\n",
    "- The Internet and the digital culture amplified the movement\n",
    "- Emergence of data journalism and data hacktisvism ([NYT Upshot](https://www.nytimes.com/section/upshot),[The Guardiand](https://www.theguardian.com/data),[#DataGueule](https://www.youtube.com/user/datagueule), [Regards Citoyens](https://www.regardscitoyens.org/), [NosDéptués.fr](https://www.regardscitoyens.org/nosdeputes-fr/)) and Open Governement: ([Etalab](https://www.etalab.gouv.fr/),[OpenFisca](https://www.openfisca.fr/), etc.)"
   ]
  },
  {
   "cell_type": "markdown",
   "metadata": {
    "deletable": true,
    "editable": true,
    "slideshow": {
     "slide_type": "slide"
    }
   },
   "source": [
    "#### The exemple of the Global Open Data Index by the Open Knowledge foundation"
   ]
  },
  {
   "cell_type": "code",
   "execution_count": 3,
   "metadata": {
    "collapsed": false,
    "deletable": true,
    "editable": true,
    "slideshow": {
     "slide_type": "-"
    }
   },
   "outputs": [
    {
     "data": {
      "text/html": [
       "<iframe src=\"https://index.okfn.org/place/#table\" frameborder=\"0\" width=100%\" height=\"705px\"></iframe>"
      ],
      "text/plain": [
       "<IPython.core.display.HTML object>"
      ]
     },
     "execution_count": 3,
     "metadata": {},
     "output_type": "execute_result"
    }
   ],
   "source": [
    "HTML('<iframe src=\"https://index.okfn.org/place/#table\" frameborder=\"0\" width=100%\" height=\"705px\"></iframe>')"
   ]
  },
  {
   "cell_type": "code",
   "execution_count": 4,
   "metadata": {
    "collapsed": false,
    "deletable": true,
    "editable": true,
    "slideshow": {
     "slide_type": "slide"
    }
   },
   "outputs": [
    {
     "data": {
      "text/html": [
       "<iframe src=\"http://www.lemonde.fr/les-decodeurs/article/2017/01/27/francois-fillon-un-depute-pas-tres-assidu_5070001_4355770.html#container_14855056650\" frameborder=\"0\" width=100%\" height=\"705px\"></iframe>"
      ],
      "text/plain": [
       "<IPython.core.display.HTML object>"
      ]
     },
     "execution_count": 4,
     "metadata": {},
     "output_type": "execute_result"
    }
   ],
   "source": [
    "HTML('<iframe src=\"http://www.lemonde.fr/les-decodeurs/article/2017/01/27/francois-fillon-un-depute-pas-tres-assidu_5070001_4355770.html#container_14855056650\" frameborder=\"0\" width=100%\" height=\"705px\"></iframe>')"
   ]
  },
  {
   "cell_type": "code",
   "execution_count": 5,
   "metadata": {
    "collapsed": false,
    "deletable": true,
    "editable": true,
    "scrolled": false,
    "slideshow": {
     "slide_type": "slide"
    }
   },
   "outputs": [
    {
     "data": {
      "text/html": [
       "<iframe src=\"http://www.lemonde.fr/les-decodeurs/article/2017/01/27/francois-fillon-un-depute-pas-tres-assidu_5070001_4355770.html#container_14854373304\" frameborder=\"0\" width=100%\" height=\"705px\"></iframe>"
      ],
      "text/plain": [
       "<IPython.core.display.HTML object>"
      ]
     },
     "execution_count": 5,
     "metadata": {},
     "output_type": "execute_result"
    }
   ],
   "source": [
    "HTML('<iframe src=\"http://www.lemonde.fr/les-decodeurs/article/2017/01/27/francois-fillon-un-depute-pas-tres-assidu_5070001_4355770.html#container_14854373304\" frameborder=\"0\" width=100%\" height=\"705px\"></iframe>')\n"
   ]
  },
  {
   "cell_type": "markdown",
   "metadata": {
    "deletable": true,
    "editable": true,
    "slideshow": {
     "slide_type": "slide"
    }
   },
   "source": [
    "## <span style=\"color:rgb(103,189,227);\"> 1.3 Towards more efficient administration ?</span>\n",
    "\n",
    "- ** 1.3.1 The Trickle down effect: new modes of organization and collaboration** \n",
    "    - Open Government Partenership and Civic tech ([OGPtoolbox](http://www.ogptoolbox.org), etc.): Data tools to make administartion more efficient.\n",
    "    - e-consultation: [fixmystreet](https://www.fixmystreet.com/), [Participatory budgeting Paris](https://budgetparticipatif.paris.fr/bp/)\n",
    "    - State as a plateform: emergence of online or/and new services API based (Tax, ID, etc.)\n",
    "    - automation: no civil servent => no petty corruption.\n",
    "    - Rent and sillo killer (e.g. university, administration)"
   ]
  },
  {
   "cell_type": "markdown",
   "metadata": {
    "deletable": true,
    "editable": true,
    "slideshow": {
     "slide_type": "slide"
    }
   },
   "source": [
    "    \"Algorithm are nothing more than opinions emebedded in code\" (Cathy O'Neil)            \n",
    "\n",
    "- ** 1.3.2 When Analytics comes in: algorithmic based decision**\n",
    "    - [Bob-emploi](https://www.bob-emploi.fr/)\n",
    "    - Tax fraud and money laundring detectors\n",
    "    - Predictive policying (e.g. [Predpol](http://www.predpol.com/): US, UK, NL, China,..\n",
    "    - Use case of Weapon of Math Destruction ([Cathy O'Neil](https://weaponsofmathdestructionbook.com/)): **rating teacher with algorithm:**\n",
    "        - 1st generation teacher assessment tool (proficiency of student at tests)\n",
    "        - 2nd generation: value added teacher model (actual score vs. expected score)\n",
    "        \n",
    "              \"You do not want to be an edge case in this future we are building.\" (Hilary Mason)"
   ]
  },
  {
   "cell_type": "markdown",
   "metadata": {
    "deletable": true,
    "editable": true,
    "slideshow": {
     "slide_type": "slide"
    }
   },
   "source": [
    "\"if you're not paying for the product, you are the product\"  \n",
    "        Richard Serra, Interviews, Etc., 1970-1980\n",
    "\n",
    "## <span style=\"color:rgb(0,125,164)\">1.4 Towards new data partenerships </span> <span style=\"color:rgb(103,189,227);\">with in the private sector?</span>\n",
    "   \n",
    "- Corportae Social Responsability\n",
    "- The Data Philantropy movement vs. Data Ownership\n",
    "- The Dark side:\n",
    "    - Ranging from Hackathon, [Kaggle competitions](https://www.kaggle.com/) to [Amazon mechanical Turk](https://www.mturk.com/mturk/welcome)\n",
    " - The Bright side:\n",
    "     - Data collaboratives and PPPPs\n",
    "    "
   ]
  },
  {
   "cell_type": "markdown",
   "metadata": {
    "deletable": true,
    "editable": true,
    "slideshow": {
     "slide_type": "slide"
    }
   },
   "source": [
    "\n",
    "### 21st century citizens must be <span style=\"color:#4EAEDB\"><i> data literate</i></span> to fully grasp <span style=\"color:#4EAEDB\">the risk but also the utility</span> hidden in big data\n",
    "\n",
    "<img src=\"http://www.stats4dev.com/dataviz/DATA.png\" width=\"50%\">\n",
    "\n",
    "\n",
    "<h2>\"Well informed people are citizens, uninformed, they become subjects\"</h2><br>\n",
    "<b>Alfred Sauvy</b>"
   ]
  },
  {
   "cell_type": "markdown",
   "metadata": {
    "deletable": true,
    "editable": true,
    "slideshow": {
     "slide_type": "slide"
    }
   },
   "source": [
    "## <span style=\"color:rgb(0,125,164)\">1.5 Open data and</span> <span style=\"color:rgb(103,189,227);\">Developmennt Assistance</span>\n",
    "\n",
    "*Context End of the cold war and purely geostratic aid allocation, crisis and budget constrain*\n",
    "\n",
    "- **1. Accountability:** OECD - DAC, IATI, etc."
   ]
  },
  {
   "cell_type": "code",
   "execution_count": 6,
   "metadata": {
    "collapsed": false,
    "deletable": true,
    "editable": true
   },
   "outputs": [
    {
     "data": {
      "text/html": [
       "<iframe src=\"http://www.d-portal.org/ctrack.html?search&publisher=FR-3#view=main\" frameborder=\"0\" width=100%\" height=\"650px\"></iframe>"
      ],
      "text/plain": [
       "<IPython.core.display.HTML object>"
      ]
     },
     "execution_count": 6,
     "metadata": {},
     "output_type": "execute_result"
    }
   ],
   "source": [
    "HTML('<iframe src=\"http://www.d-portal.org/ctrack.html?search&publisher=FR-3#view=main\" frameborder=\"0\" width=100%\" height=\"650px\"></iframe>')"
   ]
  },
  {
   "cell_type": "code",
   "execution_count": 7,
   "metadata": {
    "collapsed": false,
    "deletable": true,
    "editable": true,
    "slideshow": {
     "slide_type": "slide"
    }
   },
   "outputs": [
    {
     "data": {
      "text/html": [
       "<iframe src=\"http://www.publishwhatyoufund.org/the-index/comparison-chart/\"  frameborder=\"0\" width=100%\" height=\"650px\"></iframe>"
      ],
      "text/plain": [
       "<IPython.core.display.HTML object>"
      ]
     },
     "execution_count": 7,
     "metadata": {},
     "output_type": "execute_result"
    }
   ],
   "source": [
    "HTML('<iframe src=\"http://www.publishwhatyoufund.org/the-index/comparison-chart/\"  frameborder=\"0\" width=100%\" height=\"650px\"></iframe>')"
   ]
  },
  {
   "cell_type": "markdown",
   "metadata": {
    "deletable": true,
    "editable": true,
    "slideshow": {
     "slide_type": "slide"
    }
   },
   "source": [
    "-  **2. Efficiency:** Evaluation of development assistance, data driven policy\n",
    "    - Use case: [AFD Data Portal](http://data.afd.fr) & #DataStory "
   ]
  },
  {
   "cell_type": "code",
   "execution_count": 8,
   "metadata": {
    "collapsed": false,
    "deletable": true,
    "editable": true,
    "slideshow": {
     "slide_type": "-"
    }
   },
   "outputs": [
    {
     "data": {
      "text/html": [
       "<iframe src=\"http://www.dataspace.fr/\" scrolling=\"no\" frameborder=\"0\" width=100%\" height=\"650px\"></iframe>"
      ],
      "text/plain": [
       "<IPython.core.display.HTML object>"
      ]
     },
     "execution_count": 8,
     "metadata": {},
     "output_type": "execute_result"
    }
   ],
   "source": [
    "HTML('<iframe src=\"http://www.dataspace.fr/\" scrolling=\"no\" frameborder=\"0\" width=100%\" height=\"650px\"></iframe>')"
   ]
  },
  {
   "cell_type": "markdown",
   "metadata": {
    "deletable": true,
    "editable": true,
    "slideshow": {
     "slide_type": "slide"
    }
   },
   "source": [
    "### Exemple 2. AFD #datastory: [Initiative Sahel](http://www.dataspace.fr/datastory/Initiative+Sahel.html)\n",
    "\n",
    "[![](http://stats4dev.com/prez/initiativesahel.png)](http://afd.countrydashboards.com/datastory/Initiative+Sahel.html)"
   ]
  },
  {
   "cell_type": "markdown",
   "metadata": {
    "deletable": true,
    "editable": true,
    "slideshow": {
     "slide_type": "slide"
    }
   },
   "source": [
    "### <span style=\"color:rgb(0,125,164)\">Part 1. Conclusion: data is about people</span>\n",
    "- A new data ecostystem\n",
    "- A new power distribution\n",
    "- A new ethic\n",
    "\n",
    "\n",
    "<br>\n",
    "### Q/A"
   ]
  },
  {
   "cell_type": "markdown",
   "metadata": {
    "deletable": true,
    "editable": true,
    "slideshow": {
     "slide_type": "slide"
    }
   },
   "source": [
    "# <span style=\"color:#6b6b6c;\"> Part II. </span><span style=\"color:rgb(103,189,227);\"><b> Data,</b></span><span style=\"color:rgb(0,125,164); font-family:Arial;\"><b>  the raw material of the digital revolution</b></span>\n",
    "\n",
    "\n",
    "<img src=\"http://stats4dev.com/prez/uranium.png\">\n",
    "\n"
   ]
  },
  {
   "cell_type": "markdown",
   "metadata": {
    "deletable": true,
    "editable": true,
    "slideshow": {
     "slide_type": "slide"
    }
   },
   "source": [
    "### <span style=\"color:rgb(0,125,164)\">Introduction: </span> <span style=\"color:rgb(103,189,227);\">Data & the development agenda</span>   "
   ]
  },
  {
   "cell_type": "markdown",
   "metadata": {
    "deletable": true,
    "editable": true,
    "slideshow": {
     "slide_type": "slide"
    }
   },
   "source": [
    "From **Millennium Development Goals** to **Sustainable Dev. Goals**\n",
    "\n",
    "+ **2000**: international community signed Millennium declaration\n",
    "+ **8 Development Goals** to achieve (thus measured) by 2015\n",
    "+ **2015** not all targets have been reached, some of them, well.... **we just don't know...**\n",
    "+ <b>\"Most statistics we consider as facts are actually estimates..\"</b>\n",
    "<br><br>\n",
    "<h4><span style=\"color:rgb(0,125,164)\">Heard at UN stat commission:</span></h4>\n",
    "    \"No more targets with no monitoring strategy\"\n",
    "\n",
    "<b>... then we come up with... </b>"
   ]
  },
  {
   "cell_type": "markdown",
   "metadata": {
    "deletable": true,
    "editable": true,
    "slideshow": {
     "slide_type": "slide"
    }
   },
   "source": [
    "... the <b>17 goals and 169 targets</b> of the <b>SDGs</b>...\n",
    "    \n",
    "<img src=\"http://www.stats4dev.com/dataviz/SDGMDG.png\" width=\"100%\">\n",
    "\n",
    "<h4><span style=\"color:rgb(0,125,164)\">Heard at UN stat commission:</span></h4>\n",
    "    \"We (developed countries) are able to measure only 30% of the proposed targets\""
   ]
  },
  {
   "cell_type": "markdown",
   "metadata": {
    "deletable": true,
    "editable": true,
    "slideshow": {
     "slide_type": "slide"
    }
   },
   "source": [
    "## <span style=\"color:rgb(0,125,164)\">2.1 \"Traditional\" sources </span>  <span style=\"color:rgb(103,189,227);\">of data</span>\n",
    "\n",
    "- Census and Survey data\n",
    "- Administrative data\n",
    "- Africa's Statisticall Tragedy"
   ]
  },
  {
   "cell_type": "markdown",
   "metadata": {
    "deletable": true,
    "editable": true,
    "slideshow": {
     "slide_type": "slide"
    }
   },
   "source": [
    "## <span style=\"color:rgb(0,125,164); font-family:Arial;\"><b>Statistical Tragedy</b></span><span style=\"color:rgb(103,189,227); font-family:Arial\"><b>: Data Drought ?</b></span>"
   ]
  },
  {
   "cell_type": "code",
   "execution_count": 9,
   "metadata": {
    "collapsed": false,
    "deletable": true,
    "editable": true,
    "slideshow": {
     "slide_type": "-"
    }
   },
   "outputs": [
    {
     "data": {
      "text/html": [
       "<iframe src=\"http://goo.gl/e8nNcz\" scrolling=\"no\" frameborder=\"0\" width=100%\" height=\"610px\"></iframe>"
      ],
      "text/plain": [
       "<IPython.core.display.HTML object>"
      ]
     },
     "execution_count": 9,
     "metadata": {},
     "output_type": "execute_result"
    }
   ],
   "source": [
    "HTML('<iframe src=\"http://goo.gl/e8nNcz\" scrolling=\"no\" frameborder=\"0\" width=100%\" height=\"610px\"></iframe>')"
   ]
  },
  {
   "cell_type": "markdown",
   "metadata": {
    "deletable": true,
    "editable": true,
    "slideshow": {
     "slide_type": "slide"
    }
   },
   "source": [
    "## <span style=\"color:rgb(0,125,164); font-family:Arial;\"><b>Big Data:</b></span><span style=\"color:rgb(103,189,227); font-family:Arial\"><b>  when it's raining information</b></span>"
   ]
  },
  {
   "cell_type": "code",
   "execution_count": 10,
   "metadata": {
    "collapsed": false,
    "deletable": true,
    "editable": true,
    "scrolled": false,
    "slideshow": {
     "slide_type": "-"
    }
   },
   "outputs": [
    {
     "data": {
      "text/html": [
       "<iframe src=\"http://goo.gl/GVFAIE\" scrolling=\"no\" frameborder=\"0\" width=100%\" height=\"650px\"></iframe>"
      ],
      "text/plain": [
       "<IPython.core.display.HTML object>"
      ]
     },
     "execution_count": 10,
     "metadata": {},
     "output_type": "execute_result"
    }
   ],
   "source": [
    "HTML('<iframe src=\"http://goo.gl/GVFAIE\" scrolling=\"no\" frameborder=\"0\" width=100%\" height=\"650px\"></iframe>')"
   ]
  },
  {
   "cell_type": "markdown",
   "metadata": {
    "deletable": true,
    "editable": true,
    "slideshow": {
     "slide_type": "slide"
    }
   },
   "source": [
    "# <span style=\"color:rgb(0,125,164); font-family:Arial;\"><b>Leveraging</b></span><span style=\"color:rgb(103,189,227); font-family:Arial\"><b> Big Data </b></span><span style=\"color:rgb(0,125,164); font-family:Arial;\"><b>for</b></span><span style=\"color:rgb(103,189,227); font-family:Arial\"><b> policy</b></span>\n",
    "<h4> Sensor data: </h4>\n",
    "<table span style=\"margin-left:35px; border:0px solid white !important\"><td style=\"border:0px solid white !important\">\n",
    "<table span style=\"margin-left:0px;  border:0px solid white !important\"><td style=\"border:0px solid white !important\"><img src=\"http://www.stats4dev.com/dataviz/cell.png\"></td><td style=\"border:0px solid white !important\"><b>Cell phone data</b></td></table>\n",
    "Mobility, Migration, epidemy | Poverty, Consumption, literacy, Social cohesion | Demography (gender, age group, population density)\n",
    "\n",
    "<table span style=\"margin-left:0px\"><td><img src=\"http://www.stats4dev.com/dataviz/sat.png\"></td><td><b>Satellites imagery</b><td style=\"border:0px solid white !important\"></table>\n",
    "Poverty / inequality (light emission) | Emission greenhouse gas | Vulnerability to climate change, land, agriculture, forest, etc.\n",
    "</td></table>\n",
    "<br><br>\n",
    "<h4> Social network data / perceptions</h4>\n",
    "<table span style=\"margin-left:40px; border:0px solid white !important\"><td style=\"border:0px solid white !important\"><img src=\"http://www.stats4dev.com/dataviz/socialnet.png\"></td><td style=\"border:0px solid white !important\"><b>Social Networks</b></td></table>"
   ]
  },
  {
   "cell_type": "markdown",
   "metadata": {
    "deletable": true,
    "editable": true,
    "slideshow": {
     "slide_type": "slide"
    }
   },
   "source": [
    "## <span style=\"color:rgb(0,125,164); font-family:Arial;\"><b>Use case 1.</b></span><span style=\"color:rgb(103,189,227); font-family:Arial;\"><b> Cell-phone data</b></span>\n",
    "### <span style=\"color:rgb(0,125,164); font-family:Arial;\"><b>Transportation </b></span><span style=\"color:rgb(103,189,227); font-family:Arial;\"><b>Optimization</b></span><br><br>\n",
    "<img src='http://www.stats4dev.com/dataviz/transport_Optimisation.png'>"
   ]
  },
  {
   "cell_type": "markdown",
   "metadata": {
    "deletable": true,
    "editable": true,
    "slideshow": {
     "slide_type": "slide"
    }
   },
   "source": [
    "## <span style=\"color:rgb(0,125,164); font-family:Arial;\"><b>A more granular </b></span><span style=\"color:rgb(103,189,227); font-family:Arial;\"><b>Literacy evaluation</b></span>\n",
    "<br>\n",
    "<img src='http://www.stats4dev.com/dataviz/literacy2.png'>"
   ]
  },
  {
   "cell_type": "markdown",
   "metadata": {
    "deletable": true,
    "editable": true,
    "slideshow": {
     "slide_type": "slide"
    }
   },
   "source": [
    "## <span style=\"color:rgb(0,125,164); font-family:Arial;\"><b> Use case 2:</b></span><span style=\"color:rgb(103,189,227); font-family:Arial;\"><b> Leveraging Satellite imagary for vulnerability assessment</b></span>\n",
    "<img src='http://www.stats4dev.com/prez/SEN.png'>\n"
   ]
  },
  {
   "cell_type": "markdown",
   "metadata": {
    "deletable": true,
    "editable": true,
    "slideshow": {
     "slide_type": "slide"
    }
   },
   "source": [
    "## Mixing<span style=\"color:rgb(76,81,83);\"> geophysical risk</span> and <span style=\"color:rgb(76,81,83);\">social vulnerability</span>\n",
    "<img src='http://www.stats4dev.com/prez/hydrosocio.png'>"
   ]
  },
  {
   "cell_type": "markdown",
   "metadata": {
    "deletable": true,
    "editable": true,
    "slideshow": {
     "slide_type": "slide"
    }
   },
   "source": [
    "## in a  <span style=\"color:rgb(76,81,83);\">Nutshell</span>\n",
    "\n",
    "- **build a complete database on flood**\n",
    "    - Starting from Dartmouth Flood Obs.\n",
    "    - Sat. Images + crowsourcing information\n",
    "    \n",
    "- **Algorithms and ML to predict floodings**\n",
    "    - model, evaluate, predict, dynamic process\n",
    "\n",
    "<img src='http://www.stats4dev.com/prez/processSEN.png'>\n",
    "\n",
    "- **Mix with socio-economic data**\n",
    "    - Census + CDR pop density (V2 social incl)\n",
    "    - Pop. Density, child, spendings, unemployment, disability..\n",
    "    \n",
    "To learn more <a href=\"https://www.youtube.com/watch?v=W7Ogja4ukSI\">Presentation by Beth Tellamn</a>"
   ]
  },
  {
   "cell_type": "markdown",
   "metadata": {
    "deletable": true,
    "editable": true,
    "slideshow": {
     "slide_type": "slide"
    }
   },
   "source": [
    "<img src='http://www.stats4dev.com/prez/vulnerability.png'>"
   ]
  },
  {
   "cell_type": "markdown",
   "metadata": {
    "deletable": true,
    "editable": true,
    "slideshow": {
     "slide_type": "slide"
    }
   },
   "source": [
    "## <span style=\"color:rgb(0,125,164); font-family:Arial;\"><b> Use case 3:</b></span><span style=\"color:rgb(103,189,227); font-family:Arial;\"><b> Leveraging social network data</b></span>\n",
    "\n",
    "<table span style=\"margin-left:0px; border:0px solid white !important\"><td style=\"border:0px solid white !important\"><img src=\"http://stats4dev.com/dataviz/IN.png\"></td><td style=\"border:0px solid white !important\"><b>LinkedIn: tremendous potential of Economic Graph Research</b></td></table>\n",
    "<small>Micro: Indiviuals | Meso: Companies/industries | Macro: National/international</small>\n",
    "\n",
    "<img src=\"http://stats4dev.com/dataviz/MSocialNetwork.png\" width=\"100%\">"
   ]
  },
  {
   "cell_type": "markdown",
   "metadata": {
    "deletable": true,
    "editable": true,
    "slideshow": {
     "slide_type": "slide"
    }
   },
   "source": [
    "## <span style=\"color:rgb(103,189,227); font-family:Arial;\"><b>Big Data: big difficulty </b></span><span style=\"color:rgb(0,125,164); font-family:Arial;\"><b>...how to unleash insight hidden in sensitive personal data?</b></span>\n",
    "<b>Sharing Big Data is *risky* and *difficult*</b>...\n",
    "-  <b>Privacy</b> of consumers/users (Pseudonymization is not enough..)\n",
    "-  <b>Competition</b> at stake (disclosing strategic information to competitors, destroy market value)\n",
    "-  <b>Costly</b>: IT investments to secure data flow, cloud computing capacity, etc.\n",
    "\n",
    "<b>Involves dialogue with a wide range of stakeholders</b>\n",
    "\n",
    "- Legal office, marketing, Strategy, board members, etc.\n",
    "- Data protection authorities, Telco regulation authorities, etc."
   ]
  },
  {
   "cell_type": "markdown",
   "metadata": {
    "deletable": true,
    "editable": true,
    "slideshow": {
     "slide_type": "slide"
    }
   },
   "source": [
    "# <span style=\"color:#6b6b6c;\">Part III.</span> <span style=\"color:rgb(103,189,227);\"><b>  The Digital</b></span><span style=\"color:rgb(0,125,164); font-family:Arial;\"><b>  Humanitarian movement</b></span>\n",
    "## A short survey\n",
    "<img src='http://stats4dev.com/prez/Crise1.png'>\n",
    "\n",
    "\n",
    "<img src='http://stats4dev.com/prez/logo2.png' >"
   ]
  },
  {
   "cell_type": "markdown",
   "metadata": {
    "deletable": true,
    "editable": true,
    "slideshow": {
     "slide_type": "slide"
    }
   },
   "source": [
    "### “Data is the new currency for humanitarian response.”\n",
    "*Elaine Weidman Grunewald, Senior Vice-President and Chief\n",
    "Sustainability Officer, Ericsson*\n",
    "\n",
    "<br>\n",
    "\n",
    "### \"Data is the new Uranium, if you don't know of to handle it, do not collect it\"\n",
    "*Edouard Legoupil, Information Officer, UN-HCR*"
   ]
  },
  {
   "cell_type": "markdown",
   "metadata": {
    "collapsed": true,
    "deletable": true,
    "editable": true,
    "slideshow": {
     "slide_type": "slide"
    }
   },
   "source": [
    "## <span style=\"color:rgb(103,189,227);\">3.1 The Digital</span><span style=\"color:rgb(0,125,164); font-family:Arial;\"> humanitarian movement </span>\n",
    "\n",
    "### The history of the digital humanitarian movement\n",
    "- Haïti 2010: Patrick Meyer - HHI\n",
    "- Digital Humanitarians Network ([DHN](http://digitalhumanitarians.com))\n",
    "    - Patrick Meyer, Andrej Verity (UN-OCHA)\n",
    "\n",
    "\n",
    "![](http://stats4dev.com/prez/DHN2.png)"
   ]
  },
  {
   "cell_type": "markdown",
   "metadata": {
    "deletable": true,
    "editable": true,
    "slideshow": {
     "slide_type": "slide"
    }
   },
   "source": [
    "**Crowed sourced humanitarian mapping:**\n",
    "- Humanitarian OpenStreetMap Team - ([HOT](https://www.hotosm.org/fr))\n",
    "- [UAViator]( UAViator) Drone user community\n",
    "Crowed sourced information:\n",
    "- [Ushahidi](https://www.ushahidi.com/) uses cell phone App' to collect real time information <br>\n",
    "Example: https://www.ushahidi.com/case-studies/quakemap\n",
    "\n",
    "\n",
    "![](http://stats4dev.com/prez/USH.png)"
   ]
  },
  {
   "cell_type": "markdown",
   "metadata": {
    "collapsed": true,
    "deletable": true,
    "editable": true,
    "slideshow": {
     "slide_type": "slide"
    }
   },
   "source": [
    "## <span style=\"color:rgb(103,189,227);\">3.1 Official statistics &</span><span style=\"color:rgb(0,125,164); font-family:Arial;\"> Big Data in emergency context</span>\n",
    " \n",
    " \n",
    "- When saving time saves life, real time data matters\n",
    "- **Cell-phone data in crisis context: Nepal/Flowminder use case**\n"
   ]
  },
  {
   "cell_type": "code",
   "execution_count": 11,
   "metadata": {
    "collapsed": false,
    "deletable": true,
    "editable": true,
    "slideshow": {
     "slide_type": "-"
    }
   },
   "outputs": [
    {
     "data": {
      "text/html": [
       "<iframe width=\"100%\" height=\"400\" src=\"https://www.youtube.com/embed/hY9g0kPi8BA\" frameborder=\"0\" allowfullscreen></iframe>"
      ],
      "text/plain": [
       "<IPython.core.display.HTML object>"
      ]
     },
     "execution_count": 11,
     "metadata": {},
     "output_type": "execute_result"
    }
   ],
   "source": [
    "HTML('<iframe width=\"100%\" height=\"400\" src=\"https://www.youtube.com/embed/hY9g0kPi8BA\" frameborder=\"0\" allowfullscreen></iframe>')"
   ]
  },
  {
   "cell_type": "markdown",
   "metadata": {
    "collapsed": true,
    "deletable": true,
    "editable": true,
    "slideshow": {
     "slide_type": "slide"
    }
   },
   "source": [
    "- **'Plateformization' of humanitarian action in crisis context**\n",
    "\n",
    "    - web platform as a service\n",
    "    - Remontée (participative ou automatisée)\n",
    "    - Validation / traitement\n",
    "    - Redescente d'information\n",
    "\n",
    "Exemple: Plateforme [HDX](https://data.humdata.org/) (UN-OCHA)<br>\n",
    "Intéret des plateformes : reduire au maximum le temps entre collecte d'information et la prise de décision\n",
    "\n",
    "**Nécessité:** Besoin de taxonomie, referentiel commun (e.g. [HXL](http://hxlstandard.org/acceuil/))\n"
   ]
  },
  {
   "cell_type": "code",
   "execution_count": 12,
   "metadata": {
    "collapsed": false,
    "deletable": true,
    "editable": true,
    "slideshow": {
     "slide_type": "slide"
    }
   },
   "outputs": [
    {
     "data": {
      "text/html": [
       "<iframe src=\"https://data.humdata.org/event/lake-chad\" scrolling=\"no\" frameborder=\"0\" width=100%\" height=\"650px\"></iframe>"
      ],
      "text/plain": [
       "<IPython.core.display.HTML object>"
      ]
     },
     "execution_count": 12,
     "metadata": {},
     "output_type": "execute_result"
    }
   ],
   "source": [
    "HTML('<iframe src=\"https://data.humdata.org/event/lake-chad\" scrolling=\"no\" frameborder=\"0\" width=100%\" height=\"650px\"></iframe>')"
   ]
  },
  {
   "cell_type": "markdown",
   "metadata": {
    "deletable": true,
    "editable": true,
    "slideshow": {
     "slide_type": "slide"
    }
   },
   "source": [
    "<img src=\"http://stats4dev.com/prez/HXL2.png\">"
   ]
  },
  {
   "cell_type": "markdown",
   "metadata": {
    "deletable": true,
    "editable": true,
    "slideshow": {
     "slide_type": "slide"
    }
   },
   "source": [
    "<img src=\"http://stats4dev.com/prez/HXL1.png\">"
   ]
  },
  {
   "cell_type": "markdown",
   "metadata": {
    "deletable": true,
    "editable": true,
    "slideshow": {
     "slide_type": "slide"
    }
   },
   "source": [
    "## Conclusion \n",
    "- New tools\n",
    "- New skills and analytics strategy:\n",
    "- AI everywhere ?"
   ]
  },
  {
   "cell_type": "markdown",
   "metadata": {
    "deletable": true,
    "editable": true,
    "slideshow": {
     "slide_type": "slide"
    }
   },
   "source": [
    "## Thanks..."
   ]
  },
  {
   "cell_type": "code",
   "execution_count": 1,
   "metadata": {
    "collapsed": false,
    "deletable": true,
    "editable": true,
    "slideshow": {
     "slide_type": "skip"
    }
   },
   "outputs": [
    {
     "data": {
      "text/html": [
       "<style>table,td,tr,th {border:0px solid white !important}\n",
       "</style>"
      ],
      "text/plain": [
       "<IPython.core.display.HTML object>"
      ]
     },
     "metadata": {},
     "output_type": "display_data"
    }
   ],
   "source": [
    "%%html\n",
    "<style>table,td,tr,th {border:0px solid white !important}\n",
    "</style>"
   ]
  },
  {
   "cell_type": "code",
   "execution_count": 2,
   "metadata": {
    "collapsed": false,
    "deletable": true,
    "editable": true,
    "slideshow": {
     "slide_type": "skip"
    }
   },
   "outputs": [
    {
     "data": {
      "text/html": [
       "<script>\n",
       "code_show=true; \n",
       "function code_toggle() {\n",
       " if (code_show){\n",
       " $('div.input').hide();\n",
       " } else {\n",
       " $('div.input').show();\n",
       " }\n",
       " code_show = !code_show\n",
       "} \n",
       "$( document ).ready(code_toggle);\n",
       "</script>\n",
       "The raw code for this IPython notebook is by default hidden for easier reading.\n",
       "To toggle on/off the raw code, click <a href=\"javascript:code_toggle()\">here</a>."
      ],
      "text/plain": [
       "<IPython.core.display.HTML object>"
      ]
     },
     "execution_count": 2,
     "metadata": {},
     "output_type": "execute_result"
    }
   ],
   "source": [
    "from IPython.display import HTML\n",
    "from IPython.display import IFrame\n",
    "HTML('''<script>\n",
    "code_show=true; \n",
    "function code_toggle() {\n",
    " if (code_show){\n",
    " $('div.input').hide();\n",
    " } else {\n",
    " $('div.input').show();\n",
    " }\n",
    " code_show = !code_show\n",
    "} \n",
    "$( document ).ready(code_toggle);\n",
    "</script>\n",
    "The raw code for this IPython notebook is by default hidden for easier reading.\n",
    "To toggle on/off the raw code, click <a href=\"javascript:code_toggle()\">here</a>.''')"
   ]
  },
  {
   "cell_type": "code",
   "execution_count": null,
   "metadata": {
    "collapsed": true,
    "deletable": true,
    "editable": true,
    "slideshow": {
     "slide_type": "skip"
    }
   },
   "outputs": [],
   "source": []
  }
 ],
 "metadata": {
  "celltoolbar": "Slideshow",
  "kernelspec": {
   "display_name": "Python 3",
   "language": "python",
   "name": "python3"
  },
  "language_info": {
   "codemirror_mode": {
    "name": "ipython",
    "version": 3
   },
   "file_extension": ".py",
   "mimetype": "text/x-python",
   "name": "python",
   "nbconvert_exporter": "python",
   "pygments_lexer": "ipython3",
   "version": "3.4.4"
  }
 },
 "nbformat": 4,
 "nbformat_minor": 0
}
